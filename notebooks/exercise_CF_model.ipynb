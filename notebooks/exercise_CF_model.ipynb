{
 "cells": [
  {
   "cell_type": "markdown",
   "metadata": {},
   "source": [
    "## Collaborative Filtering\n",
    "#### Model Based Approach"
   ]
  },
  {
   "cell_type": "code",
   "execution_count": 13,
   "metadata": {
    "ExecuteTime": {
     "end_time": "2020-04-30T11:57:37.226021Z",
     "start_time": "2020-04-30T11:57:36.904092Z"
    }
   },
   "outputs": [],
   "source": [
    "import pandas as pd\n",
    "# import dataset from surprise\n",
    "from surprise import Dataset, Reader, SVD, accuracy\n",
    "# import train_test_split from surprise.model_selection\n",
    "from surprise.model_selection import train_test_split\n",
    "# import GridSearchCV from surprise.model_selection\n",
    "from surprise.model_selection import GridSearchCV\n",
    "# import cross_validate from surprise.model_selection\n",
    "from surprise.model_selection import cross_validate"
   ]
  },
  {
   "cell_type": "markdown",
   "metadata": {},
   "source": [
    "We will be working with the [same data](https://drive.google.com/file/d/1WvTmAfO09TCX7xp7uu06__ziic7JnrL5/view?usp=sharing) we used in the previous exercise."
   ]
  },
  {
   "cell_type": "code",
   "execution_count": 14,
   "metadata": {},
   "outputs": [],
   "source": [
    "book_ratings = pd.read_csv('E:\\Vocational\\Lighthouse Labs\\Flex Course\\C08_Machine Learning Application\\exercise_recommender_engines\\data\\\\bx_book_ratings.csv',sep=\";\", encoding=\"latin\")"
   ]
  },
  {
   "cell_type": "markdown",
   "metadata": {},
   "source": [
    "* create surprise dataset from book_ratings"
   ]
  },
  {
   "cell_type": "code",
   "execution_count": 15,
   "metadata": {},
   "outputs": [],
   "source": [
    "reader = Reader(rating_scale=(0, 10))\n",
    "\n",
    "# Loads Pandas dataframe\n",
    "data = Dataset.load_from_df(book_ratings, reader)"
   ]
  },
  {
   "cell_type": "markdown",
   "metadata": {},
   "source": [
    "* split data to train and test set, use test size 15%"
   ]
  },
  {
   "cell_type": "code",
   "execution_count": 16,
   "metadata": {},
   "outputs": [],
   "source": [
    "# Split the dataset into training and testing sets\n",
    "trainset, testset = train_test_split(data, test_size=0.15, random_state=42)"
   ]
  },
  {
   "cell_type": "markdown",
   "metadata": {},
   "source": [
    "* Use SVD (with default settings) to create recommendations for each user\n",
    "    - print default model's rmse that was computed on the test set (using object accuracy we imported in the beginning)"
   ]
  },
  {
   "cell_type": "code",
   "execution_count": 17,
   "metadata": {},
   "outputs": [],
   "source": [
    "# Use SVD with default settings to create recommendations\n",
    "default_svd = SVD()\n",
    "default_svd.fit(trainset)\n",
    "predictions = default_svd.test(testset)"
   ]
  },
  {
   "cell_type": "code",
   "execution_count": 18,
   "metadata": {},
   "outputs": [
    {
     "name": "stdout",
     "output_type": "stream",
     "text": [
      "RMSE: 3.4989\n"
     ]
    }
   ],
   "source": [
    "# Print default model's RMSE\n",
    "default_rmse = accuracy.rmse(predictions, verbose=True)"
   ]
  },
  {
   "cell_type": "markdown",
   "metadata": {},
   "source": [
    "* create parameters grid, use this params:\n",
    "* 'n_factors': [110, 120, 140, 160]\n",
    "* 'reg_all': [0.08, 0.1, 0.15]"
   ]
  },
  {
   "cell_type": "code",
   "execution_count": 19,
   "metadata": {},
   "outputs": [],
   "source": [
    "# Create a parameter grid\n",
    "param_grid = {\n",
    "    'n_factors': [110, 120, 140, 160],\n",
    "    'reg_all': [0.08, 0.1, 0.15]\n",
    "}"
   ]
  },
  {
   "cell_type": "markdown",
   "metadata": {},
   "source": [
    "* instantiate GridSearch with SVD as model, our pre-defined parameter grid and rmse and mae as evaluation metrics"
   ]
  },
  {
   "cell_type": "code",
   "execution_count": 20,
   "metadata": {},
   "outputs": [],
   "source": [
    "# Instantiate GridSearch with SVD as model\n",
    "grid_search = GridSearchCV(SVD, param_grid, measures=['rmse', 'mae'], cv=3)"
   ]
  },
  {
   "cell_type": "markdown",
   "metadata": {
    "ExecuteTime": {
     "end_time": "2020-04-30T11:58:48.630386Z",
     "start_time": "2020-04-30T11:58:48.622574Z"
    }
   },
   "source": [
    "* fit GridSearch"
   ]
  },
  {
   "cell_type": "code",
   "execution_count": 21,
   "metadata": {},
   "outputs": [],
   "source": [
    "# Fit GridSearch\n",
    "grid_search.fit(data)"
   ]
  },
  {
   "cell_type": "markdown",
   "metadata": {},
   "source": [
    "* print best RMSE score from training"
   ]
  },
  {
   "cell_type": "code",
   "execution_count": 24,
   "metadata": {},
   "outputs": [
    {
     "name": "stdout",
     "output_type": "stream",
     "text": [
      "Best RMSE score from training: 3.4432040918906206\n"
     ]
    }
   ],
   "source": [
    "# Print best RMSE score from training\n",
    "print(f\"Best RMSE score from training: {grid_search.best_score['rmse']}\")\n",
    "\n",
    "# Get the best model based on RMSE\n",
    "best_svd = grid_search.best_estimator['rmse']"
   ]
  },
  {
   "cell_type": "markdown",
   "metadata": {},
   "source": [
    "* predict test set with optimal model based on `RMSE`"
   ]
  },
  {
   "cell_type": "code",
   "execution_count": 26,
   "metadata": {},
   "outputs": [
    {
     "data": {
      "text/plain": [
       "<surprise.prediction_algorithms.matrix_factorization.SVD at 0x1a230ba2650>"
      ]
     },
     "execution_count": 26,
     "metadata": {},
     "output_type": "execute_result"
    }
   ],
   "source": [
    "# Train the best model on the entire training set\n",
    "best_svd.fit(trainset)"
   ]
  },
  {
   "cell_type": "code",
   "execution_count": 27,
   "metadata": {},
   "outputs": [],
   "source": [
    "# Predict the test set with the optimal model\n",
    "best_predictions = best_svd.test(testset)"
   ]
  },
  {
   "cell_type": "markdown",
   "metadata": {},
   "source": [
    "* print optimal model's RMSE that was computed on test set\n",
    "    - is it better than the default parameters?"
   ]
  },
  {
   "cell_type": "code",
   "execution_count": 28,
   "metadata": {
    "ExecuteTime": {
     "end_time": "2020-04-30T12:02:09.507946Z",
     "start_time": "2020-04-30T12:02:09.485329Z"
    }
   },
   "outputs": [
    {
     "name": "stdout",
     "output_type": "stream",
     "text": [
      "RMSE: 3.4310\n"
     ]
    }
   ],
   "source": [
    "# Print optimal model's RMSE on the test set\n",
    "best_rmse = accuracy.rmse(best_predictions, verbose=True)"
   ]
  },
  {
   "cell_type": "code",
   "execution_count": 29,
   "metadata": {},
   "outputs": [
    {
     "name": "stdout",
     "output_type": "stream",
     "text": [
      "Default model RMSE: 3.4989099480619457\n",
      "Optimal model RMSE: 3.430999654233622\n",
      "Is the optimal model better? Yes\n"
     ]
    }
   ],
   "source": [
    "# Compare with the default parameters\n",
    "print(f\"Default model RMSE: {default_rmse}\")\n",
    "print(f\"Optimal model RMSE: {best_rmse}\")\n",
    "print(f\"Is the optimal model better? {'Yes' if best_rmse < default_rmse else 'No'}\")"
   ]
  }
 ],
 "metadata": {
  "kernelspec": {
   "display_name": "Python 3",
   "language": "python",
   "name": "python3"
  },
  "language_info": {
   "codemirror_mode": {
    "name": "ipython",
    "version": 3
   },
   "file_extension": ".py",
   "mimetype": "text/x-python",
   "name": "python",
   "nbconvert_exporter": "python",
   "pygments_lexer": "ipython3",
   "version": "3.11.7"
  },
  "toc": {
   "base_numbering": 1,
   "nav_menu": {},
   "number_sections": true,
   "sideBar": true,
   "skip_h1_title": false,
   "title_cell": "Table of Contents",
   "title_sidebar": "Contents",
   "toc_cell": false,
   "toc_position": {},
   "toc_section_display": true,
   "toc_window_display": false
  },
  "varInspector": {
   "cols": {
    "lenName": 16,
    "lenType": 16,
    "lenVar": 40
   },
   "kernels_config": {
    "python": {
     "delete_cmd_postfix": "",
     "delete_cmd_prefix": "del ",
     "library": "var_list.py",
     "varRefreshCmd": "print(var_dic_list())"
    },
    "r": {
     "delete_cmd_postfix": ") ",
     "delete_cmd_prefix": "rm(",
     "library": "var_list.r",
     "varRefreshCmd": "cat(var_dic_list()) "
    }
   },
   "types_to_exclude": [
    "module",
    "function",
    "builtin_function_or_method",
    "instance",
    "_Feature"
   ],
   "window_display": false
  }
 },
 "nbformat": 4,
 "nbformat_minor": 4
}
